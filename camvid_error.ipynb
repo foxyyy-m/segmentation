{
  "cells": [
    {
      "cell_type": "code",
      "execution_count": 1,
      "metadata": {
        "id": "6PuAOPeAkIT5"
      },
      "outputs": [],
      "source": [
        "# This Python 3 environment comes with many helpful analytics libraries installed\n",
        "# It is defined by the kaggle/python Docker image: https://github.com/kaggle/docker-python\n",
        "# For example, here's several helpful packages to load\n",
        "\n",
        "import numpy as np # linear algebra\n",
        "import pandas as pd # data processing, CSV file I/O (e.g. pd.read_csv)\n",
        "import numpy as np \n",
        "import os\n",
        "import cv2\n",
        "#import skimage.io as io\n",
        "#import skimage.transform as trans\n",
        "import numpy as np\n",
        "from keras.models import *\n",
        "from keras.layers import *\n",
        "from keras.optimizers import *\n",
        "from keras.callbacks import ModelCheckpoint, LearningRateScheduler\n",
        "from keras import backend as keras\n",
        "# Input data files are available in the read-only \"../input/\" directory\n",
        "import os\n",
        "\n",
        "# You can write up to 20GB to the current directory (/kaggle/working/) that gets preserved as output when you create a version using \"Save & Run All\" \n",
        "# You can also write temporary files to /kaggle/temp/, but they won't be saved outside of the current session"
      ]
    },
    {
      "cell_type": "code",
      "execution_count": 2,
      "metadata": {
        "id": "L8dLV03KkKM-"
      },
      "outputs": [],
      "source": [
        "!pip install -q kaggle\n",
        "!mkdir -p ~/.kaggle\n",
        "!cp /content/kaggle.json ~/.kaggle/\n",
        "!chmod 600 /root/.kaggle/kaggle.json"
      ]
    },
    {
      "cell_type": "code",
      "execution_count": 3,
      "metadata": {
        "colab": {
          "base_uri": "https://localhost:8080/"
        },
        "id": "zayrdXbskKP0",
        "outputId": "3b42d823-5012-4b32-cd47-2e93b4441053"
      },
      "outputs": [
        {
          "output_type": "stream",
          "name": "stdout",
          "text": [
            "Downloading camvid.zip to /content\n",
            " 98% 565M/575M [00:02<00:00, 293MB/s]\n",
            "100% 575M/575M [00:02<00:00, 268MB/s]\n"
          ]
        }
      ],
      "source": [
        "!kaggle datasets download -d carlolepelaars/camvid"
      ]
    },
    {
      "cell_type": "code",
      "execution_count": null,
      "metadata": {
        "id": "StCvwLcGkKTL"
      },
      "outputs": [],
      "source": [
        "! unzip camvid.zip"
      ]
    },
    {
      "cell_type": "code",
      "execution_count": 5,
      "metadata": {
        "colab": {
          "base_uri": "https://localhost:8080/"
        },
        "id": "OdWj2ArDkIT8",
        "outputId": "1cda5f08-a9f7-44c5-9984-3701bffbc1b5"
      },
      "outputs": [
        {
          "output_type": "execute_result",
          "data": {
            "text/plain": [
              "{'Animal': [64, 128, 64],\n",
              " 'Archway': [192, 0, 128],\n",
              " 'Bicyclist': [0, 128, 192],\n",
              " 'Bridge': [0, 128, 64],\n",
              " 'Building': [128, 0, 0],\n",
              " 'Car': [64, 0, 128],\n",
              " 'CartLuggagePram': [64, 0, 192],\n",
              " 'Child': [192, 128, 64],\n",
              " 'Column_Pole': [192, 192, 128],\n",
              " 'Fence': [64, 64, 128],\n",
              " 'LaneMkgsDriv': [128, 0, 192],\n",
              " 'LaneMkgsNonDriv': [192, 0, 64],\n",
              " 'Misc_Text': [128, 128, 64],\n",
              " 'MotorcycleScooter': [192, 0, 192],\n",
              " 'OtherMoving': [128, 64, 64],\n",
              " 'ParkingBlock': [64, 192, 128],\n",
              " 'Pedestrian': [64, 64, 0],\n",
              " 'Road': [128, 64, 128],\n",
              " 'RoadShoulder': [128, 128, 192],\n",
              " 'Sidewalk': [0, 0, 192],\n",
              " 'SignSymbol': [192, 128, 128],\n",
              " 'Sky': [128, 128, 128],\n",
              " 'SUVPickupTruck': [64, 128, 192],\n",
              " 'TrafficCone': [0, 0, 64],\n",
              " 'TrafficLight': [0, 64, 64],\n",
              " 'Train': [192, 64, 128],\n",
              " 'Tree': [128, 128, 0],\n",
              " 'Truck_Bus': [192, 128, 192],\n",
              " 'Tunnel': [64, 0, 64],\n",
              " 'VegetationMisc': [192, 192, 0],\n",
              " 'Void': [0, 0, 0],\n",
              " 'Wall': [64, 192, 0]}"
            ]
          },
          "metadata": {},
          "execution_count": 5
        }
      ],
      "source": [
        "colors = pd.read_csv('/content/CamVid/class_dict.csv').set_index(\"name\")\n",
        "classes = {cl:list(colors.loc[cl, :]) for cl in colors.index}\n",
        "classes"
      ]
    },
    {
      "cell_type": "code",
      "execution_count": 6,
      "metadata": {
        "colab": {
          "base_uri": "https://localhost:8080/"
        },
        "id": "kjo7AS5PkIT-",
        "outputId": "9215293a-192e-4ee5-d90f-2173dd97da88"
      },
      "outputs": [
        {
          "output_type": "stream",
          "name": "stdout",
          "text": [
            "[64, 128, 64]\n",
            "[192, 0, 128]\n",
            "[0, 128, 192]\n",
            "[0, 128, 64]\n",
            "[128, 0, 0]\n",
            "[64, 0, 128]\n",
            "[64, 0, 192]\n",
            "[192, 128, 64]\n",
            "[192, 192, 128]\n",
            "[64, 64, 128]\n",
            "[128, 0, 192]\n",
            "[192, 0, 64]\n",
            "[128, 128, 64]\n",
            "[192, 0, 192]\n",
            "[128, 64, 64]\n",
            "[64, 192, 128]\n",
            "[64, 64, 0]\n",
            "[128, 64, 128]\n",
            "[128, 128, 192]\n",
            "[0, 0, 192]\n",
            "[192, 128, 128]\n",
            "[128, 128, 128]\n",
            "[64, 128, 192]\n",
            "[0, 0, 64]\n",
            "[0, 64, 64]\n",
            "[192, 64, 128]\n",
            "[128, 128, 0]\n",
            "[192, 128, 192]\n",
            "[64, 0, 64]\n",
            "[192, 192, 0]\n",
            "[0, 0, 0]\n",
            "[64, 192, 0]\n"
          ]
        }
      ],
      "source": [
        "for i in list(classes.values()): \n",
        "    print(i)"
      ]
    },
    {
      "cell_type": "code",
      "execution_count": 7,
      "metadata": {
        "id": "l-MT_wASkIT_"
      },
      "outputs": [],
      "source": [
        "def load_masks(main_path):\n",
        "    mask = tf.io.read_file(main_path)\n",
        "    mask = tf.image.decode_png(mask, channels=3)\n",
        "\n",
        "    # Resize image and mask\n",
        "    mask = tf.image.resize(mask, size=(256, 256))\n",
        "\n",
        "    # Convert image and mask to float32 and normalize pixel values\n",
        "    mask = mask_preprocess(mask)\n",
        "    return mask"
      ]
    },
    {
      "cell_type": "code",
      "execution_count": 8,
      "metadata": {
        "id": "XohjtBi6kIUA"
      },
      "outputs": [],
      "source": [
        "def load_images(main_path):\n",
        "    image = tf.io.read_file(main_path)\n",
        "    image = tf.image.decode_jpeg(image, channels=3)\n",
        "\n",
        "    # Resize image and mask\n",
        "    image = tf.image.resize(image, size=(256, 256))\n",
        "\n",
        "    # Convert image and mask to float32 and normalize pixel values\n",
        "    image = tf.cast(image , tf.float32) / 255\n",
        "    return image"
      ]
    },
    {
      "cell_type": "code",
      "execution_count": 9,
      "metadata": {
        "id": "O4C7-CQ5kIUB"
      },
      "outputs": [],
      "source": [
        "def mask_preprocess(mask):\n",
        "    chann = []\n",
        "    for i in list(classes.values()):\n",
        "        equali = np.equal(mask , i)\n",
        "        maski = np.all(equali , axis = -1)\n",
        "        chann.append(maski)\n",
        "    chann = np.stack(chann , axis = -1)\n",
        "    return np.float32(chann)"
      ]
    },
    {
      "cell_type": "code",
      "execution_count": 10,
      "metadata": {
        "id": "FcMlCWmWkIUC"
      },
      "outputs": [],
      "source": [
        "import os\n",
        "import numpy as np\n",
        "from tensorflow.keras.utils import Sequence\n",
        "\n",
        "class CustomDataGenerator(Sequence):\n",
        "    def __init__(self, images_dir, masks_dir, batch_size):\n",
        "        self.images_dir = images_dir\n",
        "        self.masks_dir = masks_dir\n",
        "        self.batch_size = batch_size\n",
        "        self.image_filenames = os.listdir(images_dir)\n",
        "        self.mask_filenames = os.listdir(masks_dir)\n",
        "        self.on_epoch_end()\n",
        "\n",
        "    def __len__(self):\n",
        "        return int(np.ceil(len(self.image_filenames) / float(self.batch_size)))\n",
        "\n",
        "    def __getitem__(self, idx):\n",
        "        batch_image_filenames = self.image_filenames[idx*self.batch_size:(idx+1)*self.batch_size]\n",
        "        batch_mask_filenames = self.mask_filenames[idx*self.batch_size:(idx+1)*self.batch_size]\n",
        "        batch_images = []\n",
        "        batch_masks = []\n",
        "        for image_filename, mask_filename in zip(batch_image_filenames, batch_mask_filenames):\n",
        "            image_path = os.path.join(self.images_dir, image_filename)\n",
        "            mask_path = os.path.join(self.masks_dir, mask_filename)\n",
        "            image = load_images(image_path) # replace with your image loading function\n",
        "            mask_32_channels = load_masks(mask_path) # apply your function\n",
        "            batch_images.append(image)\n",
        "            batch_masks.append(mask_32_channels)\n",
        "        return np.array(batch_images), np.array(batch_masks)\n",
        "\n",
        "    def on_epoch_end(self):\n",
        "        np.random.shuffle(self.image_filenames)\n",
        "        np.random.shuffle(self.mask_filenames)\n"
      ]
    },
    {
      "cell_type": "code",
      "execution_count": 11,
      "metadata": {
        "id": "U9n2tRAIkIUD"
      },
      "outputs": [],
      "source": [
        "generator = CustomDataGenerator(images_dir='/content/CamVid/train', masks_dir='/content/CamVid/train_labels', batch_size=32)"
      ]
    },
    {
      "cell_type": "code",
      "execution_count": 12,
      "metadata": {
        "id": "57MHDD3GkIUE"
      },
      "outputs": [],
      "source": [
        "def conv_block(tensor, nfilters, size=3, padding='same', initializer=\"he_normal\"):\n",
        "    x = Conv2D(filters=nfilters, kernel_size=(size, size), padding=padding, kernel_initializer=initializer)(tensor)\n",
        "    x = BatchNormalization()(x)\n",
        "    x = Activation(\"relu\")(x)\n",
        "    x = Conv2D(filters=nfilters, kernel_size=(size, size), padding=padding, kernel_initializer=initializer)(x)\n",
        "    x = BatchNormalization()(x)\n",
        "    x = Activation(\"relu\")(x)\n",
        "    return x\n",
        "\n",
        "\n",
        "def deconv_block(tensor, residual, nfilters, size=3, padding='same', strides=(2, 2)):\n",
        "    y = Conv2DTranspose(nfilters, kernel_size=(size, size), strides=strides, padding=padding)(tensor)\n",
        "    y = concatenate([y, residual], axis=3)\n",
        "    y = conv_block(y, nfilters)\n",
        "    return y\n",
        "def Unet(h, w, filters, num_classes = 32):\n",
        "# down\n",
        "    input_layer = Input(shape=(h, w, 3), name='image_input')\n",
        "    conv1 = conv_block(input_layer, nfilters=filters)\n",
        "    conv1_out = MaxPooling2D(pool_size=(2, 2))(conv1)\n",
        "    conv2 = conv_block(conv1_out, nfilters=filters*2)\n",
        "    conv2_out = MaxPooling2D(pool_size=(2, 2))(conv2)\n",
        "    conv3 = conv_block(conv2_out, nfilters=filters*4)\n",
        "    conv3_out = MaxPooling2D(pool_size=(2, 2))(conv3)\n",
        "    conv4 = conv_block(conv3_out, nfilters=filters*8)\n",
        "    conv4_out = MaxPooling2D(pool_size=(2, 2))(conv4)\n",
        "    conv4_out = Dropout(0.5)(conv4_out)\n",
        "    conv5 = conv_block(conv4_out, nfilters=filters*16)\n",
        "    conv5 = Dropout(0.5)(conv5)\n",
        "# up\n",
        "    deconv6 = deconv_block(conv5, residual=conv4, nfilters=filters*8)\n",
        "    deconv6 = Dropout(0.5)(deconv6)\n",
        "    deconv7 = deconv_block(deconv6, residual=conv3, nfilters=filters*4)\n",
        "    deconv7 = Dropout(0.5)(deconv7) \n",
        "    deconv8 = deconv_block(deconv7, residual=conv2, nfilters=filters*2)\n",
        "    deconv9 = deconv_block(deconv8, residual=conv1, nfilters=filters)\n",
        "    output_layer = Conv2D(filters=32, kernel_size=(1, 1), activation='softmax')(deconv9)\n",
        "\n",
        "    model = Model(inputs=input_layer, outputs=output_layer, name='Unet')\n",
        "    return model"
      ]
    },
    {
      "cell_type": "code",
      "execution_count": 13,
      "metadata": {
        "id": "QMHEorBGkIUF"
      },
      "outputs": [],
      "source": [
        "model = Unet(256 , 256 , 3 , 32)\n",
        "# model.summary()"
      ]
    },
    {
      "cell_type": "code",
      "execution_count": 14,
      "metadata": {
        "id": "qvTCEo4gkIUF"
      },
      "outputs": [],
      "source": [
        "model.compile(optimizer='adam', loss='categorical_crossentropy', metrics='accuracy')"
      ]
    },
    {
      "cell_type": "code",
      "execution_count": 15,
      "metadata": {
        "colab": {
          "base_uri": "https://localhost:8080/"
        },
        "id": "NoHPuy_jkIUG",
        "outputId": "2e463474-04a9-48fa-ff2d-003f57abe6ab"
      },
      "outputs": [
        {
          "output_type": "stream",
          "name": "stdout",
          "text": [
            "Epoch 1/10\n",
            "12/12 [==============================] - 78s 4s/step - loss: 3.2748 - accuracy: 0.1779\n",
            "Epoch 2/10\n",
            "12/12 [==============================] - 48s 4s/step - loss: 3.2030 - accuracy: 0.2060\n",
            "Epoch 3/10\n",
            "12/12 [==============================] - 48s 4s/step - loss: 3.1328 - accuracy: 0.2131\n",
            "Epoch 4/10\n",
            "12/12 [==============================] - 48s 4s/step - loss: 3.0749 - accuracy: 0.2102\n",
            "Epoch 5/10\n",
            "12/12 [==============================] - 48s 4s/step - loss: 3.0178 - accuracy: 0.2101\n",
            "Epoch 6/10\n",
            "12/12 [==============================] - 49s 4s/step - loss: 2.9644 - accuracy: 0.2131\n",
            "Epoch 7/10\n",
            "12/12 [==============================] - 47s 4s/step - loss: 2.9198 - accuracy: 0.2058\n",
            "Epoch 8/10\n",
            "12/12 [==============================] - 48s 4s/step - loss: 2.8639 - accuracy: 0.2086\n",
            "Epoch 9/10\n",
            "12/12 [==============================] - 48s 4s/step - loss: 2.8081 - accuracy: 0.2099\n",
            "Epoch 10/10\n",
            "12/12 [==============================] - 47s 4s/step - loss: 2.7442 - accuracy: 0.2049\n"
          ]
        },
        {
          "output_type": "execute_result",
          "data": {
            "text/plain": [
              "<keras.callbacks.History at 0x7f69e021cb50>"
            ]
          },
          "metadata": {},
          "execution_count": 15
        }
      ],
      "source": [
        "model.fit(generator, steps_per_epoch=len(generator), epochs=10)"
      ]
    },
    {
      "cell_type": "code",
      "execution_count": 15,
      "metadata": {
        "id": "e0t0MkSkkIUH"
      },
      "outputs": [],
      "source": []
    },
    {
      "cell_type": "code",
      "execution_count": 15,
      "metadata": {
        "id": "-v9XgFwQkIUH"
      },
      "outputs": [],
      "source": []
    },
    {
      "cell_type": "code",
      "execution_count": 15,
      "metadata": {
        "id": "suJk3nOLkIUH"
      },
      "outputs": [],
      "source": []
    },
    {
      "cell_type": "code",
      "execution_count": 15,
      "metadata": {
        "id": "6pSek111kIUI"
      },
      "outputs": [],
      "source": []
    },
    {
      "cell_type": "code",
      "execution_count": 15,
      "metadata": {
        "id": "a6pVPxRKkIUI"
      },
      "outputs": [],
      "source": []
    }
  ],
  "metadata": {
    "accelerator": "GPU",
    "colab": {
      "provenance": []
    },
    "gpuClass": "standard",
    "kernelspec": {
      "display_name": "Python 3",
      "language": "python",
      "name": "python3"
    },
    "language_info": {
      "codemirror_mode": {
        "name": "ipython",
        "version": 3
      },
      "file_extension": ".py",
      "mimetype": "text/x-python",
      "name": "python",
      "nbconvert_exporter": "python",
      "pygments_lexer": "ipython3",
      "version": "3.7.12"
    }
  },
  "nbformat": 4,
  "nbformat_minor": 0
}