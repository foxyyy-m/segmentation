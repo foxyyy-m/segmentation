{
  "nbformat": 4,
  "nbformat_minor": 0,
  "metadata": {
    "colab": {
      "provenance": [],
      "authorship_tag": "ABX9TyPXfJR9J21dk2rAXqI9yqyS"
    },
    "kernelspec": {
      "name": "python3",
      "display_name": "Python 3"
    },
    "language_info": {
      "name": "python"
    },
    "accelerator": "GPU",
    "gpuClass": "standard"
  },
  "cells": [
    {
      "cell_type": "code",
      "execution_count": 1,
      "metadata": {
        "id": "eYM92WfdM_Lr"
      },
      "outputs": [],
      "source": [
        "#abc"
      ]
    },
    {
      "cell_type": "code",
      "source": [
        "!pip install -q kaggle\n",
        "!mkdir -p ~/.kaggle\n",
        "!cp /content/kaggle.json ~/.kaggle/"
      ],
      "metadata": {
        "id": "WcsB0w42NEZ-"
      },
      "execution_count": 2,
      "outputs": []
    },
    {
      "cell_type": "code",
      "source": [
        "!kaggle datasets download -d awsaf49/brats20-dataset-training-validation"
      ],
      "metadata": {
        "colab": {
          "base_uri": "https://localhost:8080/"
        },
        "id": "Swx3oiIENEce",
        "outputId": "b742ae17-2753-41d9-a82d-f22bf0681a61"
      },
      "execution_count": 3,
      "outputs": [
        {
          "output_type": "stream",
          "name": "stdout",
          "text": [
            "Warning: Your Kaggle API key is readable by other users on this system! To fix this, you can run 'chmod 600 /root/.kaggle/kaggle.json'\n",
            "Downloading brats20-dataset-training-validation.zip to /content\n",
            "100% 4.15G/4.16G [00:34<00:00, 134MB/s]\n",
            "100% 4.16G/4.16G [00:34<00:00, 128MB/s]\n"
          ]
        }
      ]
    },
    {
      "cell_type": "code",
      "source": [
        "! unzip brats20-dataset-training-validation.zip"
      ],
      "metadata": {
        "id": "_2Du2_5bNEe4"
      },
      "execution_count": null,
      "outputs": []
    },
    {
      "cell_type": "code",
      "source": [
        "# This Python 3 environment comes with many helpful analytics libraries installed\n",
        "# It is defined by the kaggle/python Docker image: https://github.com/kaggle/docker-python\n",
        "# For example, here's several helpful packages to load\n",
        "import tensorflow as tf\n",
        "import cv2\n",
        "import os\n",
        "import random\n",
        "import numpy as np\n",
        "import glob\n",
        "\n",
        "from skimage.io import imread, imshow\n",
        "from skimage.transform import resize\n",
        "import matplotlib.pyplot as plt\n",
        "from tensorflow.keras.layers import Input, Conv2D, MaxPooling2D, UpSampling2D, concatenate, Conv2DTranspose, BatchNormalization, Dropout, Lambda\n",
        "from tensorflow.keras.models import Model\n",
        "from tensorflow.keras.callbacks import EarlyStopping, ModelCheckpoint\n",
        "import numpy as np # linear algebra\n",
        "import pandas as pd # data processing, CSV file I/O (e.g. pd.read_csv)\n",
        "import tqdm\n",
        "import matplotlib.pyplot as plt"
      ],
      "metadata": {
        "id": "rHE-1HZ0OjfK"
      },
      "execution_count": 6,
      "outputs": []
    },
    {
      "cell_type": "code",
      "source": [
        "sorted(os.listdir('/content/BraTS2020_TrainingData/MICCAI_BraTS2020_TrainingData'))[-3]"
      ],
      "metadata": {
        "colab": {
          "base_uri": "https://localhost:8080/",
          "height": 35
        },
        "id": "t3jSUc8CNEhf",
        "outputId": "8261fec4-5e8b-4e47-da18-9b3a349ee26b"
      },
      "execution_count": 7,
      "outputs": [
        {
          "output_type": "execute_result",
          "data": {
            "text/plain": [
              "'BraTS20_Training_369'"
            ],
            "application/vnd.google.colaboratory.intrinsic+json": {
              "type": "string"
            }
          },
          "metadata": {},
          "execution_count": 7
        }
      ]
    },
    {
      "cell_type": "code",
      "source": [
        "os.listdir('/content/BraTS2020_TrainingData/MICCAI_BraTS2020_TrainingData/BraTS20_Training_355')"
      ],
      "metadata": {
        "colab": {
          "base_uri": "https://localhost:8080/"
        },
        "id": "JwgvgidDNEj5",
        "outputId": "1f636f10-def7-4edd-a24b-747344c9b1aa"
      },
      "execution_count": 10,
      "outputs": [
        {
          "output_type": "execute_result",
          "data": {
            "text/plain": [
              "['BraTS20_Training_355_flair.nii',\n",
              " 'BraTS20_Training_355_seg.nii',\n",
              " 'BraTS20_Training_355_t2.nii',\n",
              " 'BraTS20_Training_355_t1.nii',\n",
              " 'BraTS20_Training_355_t1ce.nii']"
            ]
          },
          "metadata": {},
          "execution_count": 10
        }
      ]
    },
    {
      "cell_type": "code",
      "source": [
        "directory_path = '/content/BraTS2020_TrainingData/MICCAI_BraTS2020_TrainingData/BraTS20_Training_355'\n",
        "files = os.listdir(directory_path)\n",
        "\n",
        "# Find the file you want to rename\n",
        "for filename in files:\n",
        "    if filename == \"W39_1998.09.19_Segm.nii\":\n",
        "        # Rename the file\n",
        "        os.rename(os.path.join(directory_path, filename), os.path.join(directory_path, \"BraTS20_Training_355_seg.nii\"))"
      ],
      "metadata": {
        "id": "YpEA3daCNEmd"
      },
      "execution_count": 9,
      "outputs": []
    },
    {
      "cell_type": "code",
      "source": [
        "import os\n",
        "import numpy as np\n",
        "import nibabel as nib\n",
        "\n",
        "class CustomDataGenerator:\n",
        "    def __init__(self, data_path, batch_size):\n",
        "        self.data_path = data_path\n",
        "        self.batch_size = batch_size\n",
        "        self.image_names = []\n",
        "        self.mask_names = []\n",
        "        for dirpath, dirnames, filenames in os.walk(self.data_path):\n",
        "            for filename in filenames:\n",
        "                if filename.endswith(\".nii\"):\n",
        "                    if \"mask\" in filename:\n",
        "                        self.mask_names.append(os.path.join(dirpath, filename))\n",
        "                    else:\n",
        "                        self.image_names.append(os.path.join(dirpath, filename))\n",
        "        self.n_samples = len(self.image_names) // 2\n",
        "\n",
        "    def __len__(self):\n",
        "        return int(np.ceil(self.n_samples / float(self.batch_size)))\n",
        "\n",
        "    def __getitem__(self, index):\n",
        "        indexes = range(index*self.batch_size, min((index+1)*self.batch_size, self.n_samples))\n",
        "        batch_image_names = [self.image_names[i] for i in indexes for _ in range(2)]\n",
        "        batch_mask_names = [self.mask_names[i] for i in indexes]\n",
        "        X = []\n",
        "        Y = []\n",
        "        for i in range(len(batch_image_names)):\n",
        "            image_data = nib.load(batch_image_names[i]).get_fdata()\n",
        "            X.append(image_data)\n",
        "            if (i+1) % 2 == 0:\n",
        "                mask_data = nib.load(batch_mask_names[i//2]).get_fdata()\n",
        "                Y.append(mask_data)\n",
        "        X = np.stack(X, axis=-1)\n",
        "        Y = np.stack(Y, axis=-1)\n",
        "        return X, Y\n"
      ],
      "metadata": {
        "id": "7Ouj0i0xNEpF"
      },
      "execution_count": null,
      "outputs": []
    },
    {
      "cell_type": "code",
      "source": [],
      "metadata": {
        "id": "Zn4vM9-xPHr-"
      },
      "execution_count": null,
      "outputs": []
    },
    {
      "cell_type": "code",
      "source": [],
      "metadata": {
        "id": "b2ndRLhTPHul"
      },
      "execution_count": null,
      "outputs": []
    },
    {
      "cell_type": "code",
      "source": [],
      "metadata": {
        "id": "1zFNwEo-PHxL"
      },
      "execution_count": null,
      "outputs": []
    },
    {
      "cell_type": "code",
      "source": [],
      "metadata": {
        "id": "Fe6l0qjHPH0D"
      },
      "execution_count": null,
      "outputs": []
    },
    {
      "cell_type": "code",
      "source": [],
      "metadata": {
        "id": "8PSpHAOSPH21"
      },
      "execution_count": null,
      "outputs": []
    },
    {
      "cell_type": "code",
      "source": [],
      "metadata": {
        "id": "JOhU-PJMPH5l"
      },
      "execution_count": null,
      "outputs": []
    },
    {
      "cell_type": "code",
      "source": [],
      "metadata": {
        "id": "UoM-GHvfPH9A"
      },
      "execution_count": null,
      "outputs": []
    },
    {
      "cell_type": "code",
      "source": [],
      "metadata": {
        "id": "jZNrQGKXNErd"
      },
      "execution_count": null,
      "outputs": []
    },
    {
      "cell_type": "code",
      "source": [],
      "metadata": {
        "id": "BX70hPyFNEuD"
      },
      "execution_count": null,
      "outputs": []
    },
    {
      "cell_type": "code",
      "source": [],
      "metadata": {
        "id": "PPY2GwefNExP"
      },
      "execution_count": null,
      "outputs": []
    }
  ]
}